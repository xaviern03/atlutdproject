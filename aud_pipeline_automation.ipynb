{
 "cells": [
  {
   "cell_type": "code",
   "execution_count": 0,
   "metadata": {
    "application/vnd.databricks.v1+cell": {
     "cellMetadata": {
      "byteLimit": 2048000,
      "rowLimit": 10000
     },
     "collapsed": true,
     "inputWidgets": {},
     "nuid": "db535980-7af0-4fdb-aba4-38fbdd2b0ead",
     "showTitle": true,
     "tableResultSettingsMap": {},
     "title": ""
    }
   },
   "outputs": [],
   "source": [
    "\n",
    "player_mapping_path = \"dbfs:/FileStore/tables/player_mapping.csv\"\n",
    "player_mapping_df = spark.read.format(\"csv\").option(\"header\", \"true\").option(\"inferSchema\", \"true\").load(player_mapping_path)\n",
    "player_mapping = {row[\"Player\"]: int(row[\"player_id\"]) for row in player_mapping_df.collect()}\n",
    "\n",
    "player_pass_path = \"dbfs:/FileStore/tables/processed_players_pass_data_2025_01_23.csv\"\n",
    "player_pass_df = spark.read.format(\"csv\").option(\"header\", \"true\").option(\"inferSchema\", \"true\").load(player_pass_path)\n",
    "\n",
    "player_goals_path = \"dbfs:/FileStore/tables/processed_players_goals_data_2025_01_23.csv\"\n",
    "player_goals_df = spark.read.format(\"csv\").option(\"header\", \"true\").option(\"inferSchema\", \"true\").load(player_goals_path)\n",
    "\n",
    "from pyspark.sql.functions import udf\n",
    "from pyspark.sql.types import IntegerType\n",
    "\n",
    "def map_player_id(player_name):\n",
    "    return player_mapping.get(player_name, None)\n",
    "\n",
    "map_player_id_udf = udf(map_player_id, IntegerType())\n",
    "player_pass_df = player_pass_df.withColumn(\"player_id\", map_player_id_udf(player_pass_df[\"Player\"]))\n",
    "player_goals_df = player_goals_df.withColumn(\"player_id\", map_player_id_udf(player_goals_df[\"Player\"]))\n",
    "\n",
    "match_data_path = \"dbfs:/FileStore/tables/processed_match_data_2025_01_23-3.csv\"\n",
    "match_df = spark.read.format(\"csv\").option(\"header\", \"true\").option(\"inferSchema\", \"true\").load(match_data_path)\n",
    "\n",
    "salary_data_path = \"dbfs:/FileStore/tables/processed_salary_data_2025_01_23-3.csv\"\n",
    "salary_df = spark.read.format(\"csv\").option(\"header\", \"true\").option(\"inferSchema\", \"true\").load(salary_data_path)\n",
    "salary_df = salary_df.withColumn(\"player_id\", map_player_id_udf(salary_df[\"Player\"]))\n",
    "\n",
    "match_df.show()\n",
    "salary_df.show()\n",
    "player_pass_df.show()\n",
    "player_goals_df.show()"
   ]
  },
  {
   "cell_type": "code",
   "execution_count": 0,
   "metadata": {
    "application/vnd.databricks.v1+cell": {
     "cellMetadata": {
      "byteLimit": 2048000,
      "rowLimit": 10000
     },
     "collapsed": true,
     "inputWidgets": {},
     "nuid": "5c109aba-eaf3-4f20-bec7-094d3ff5a740",
     "showTitle": false,
     "tableResultSettingsMap": {},
     "title": ""
    }
   },
   "outputs": [],
   "source": [
    "\n",
    "match_data_delta_path = \"/delta/match_data\"\n",
    "salary_data_delta_path = \"/delta/salary_data\"\n",
    "player_pass_delta_path = \"/delta/player_pass_data\"\n",
    "player_goal_delta_path = \"/delta/player_goals_data\"\n",
    "\n",
    "match_df.write.format(\"delta\").option(\"mergeSchema\", \"true\").mode(\"overwrite\").save(match_data_delta_path)\n",
    "salary_df.write.format(\"delta\").option(\"mergeSchema\", \"true\").mode(\"overwrite\").save(salary_data_delta_path)\n",
    "player_pass_df.write.format(\"delta\").option(\"mergeSchema\", \"true\").mode(\"overwrite\").save(player_pass_delta_path)\n",
    "player_goals_df.write.format(\"delta\").option(\"mergeSchema\", \"true\").mode(\"overwrite\").save(player_goal_delta_path)  \n",
    "\n",
    "spark.sql(f\"\"\"\n",
    "CREATE TABLE IF NOT EXISTS match_data\n",
    "USING DELTA\n",
    "LOCATION '{match_data_delta_path}'\n",
    "\"\"\")\n",
    "\n",
    "spark.sql(f\"\"\"\n",
    "CREATE TABLE IF NOT EXISTS salary_data\n",
    "USING DELTA\n",
    "LOCATION '{salary_data_delta_path}'\n",
    "\"\"\")\n",
    "\n",
    "spark.sql(f\"\"\"\n",
    "CREATE TABLE IF NOT EXISTS player_pass_data\n",
    "USING DELTA\n",
    "LOCATION '{player_pass_delta_path}'\n",
    "\"\"\")\n",
    "\n",
    "spark.sql(f\"\"\"\n",
    "CREATE TABLE IF NOT EXISTS player_goals_data\n",
    "USING DELTA\n",
    "LOCATION '{player_goal_delta_path}'\n",
    "\"\"\")    \n",
    "\n",
    "spark.sql(\"SELECT * FROM match_data LIMIT 10\").show()\n",
    "spark.sql(\"SELECT * FROM salary_data LIMIT 10\").show()\n",
    "spark.sql(\"SELECT * FROM player_pass_data LIMIT 10\").show()\n",
    "spark.sql(\"SELECT * FROM player_goals_data LIMIT 10\").show()"
   ]
  },
  {
   "cell_type": "code",
   "execution_count": 0,
   "metadata": {
    "application/vnd.databricks.v1+cell": {
     "cellMetadata": {
      "byteLimit": 2048000,
      "implicitDf": true,
      "rowLimit": 10000
     },
     "inputWidgets": {},
     "nuid": "c4b5e6a3-95f3-4dba-9476-77dc855013ba",
     "showTitle": false,
     "tableResultSettingsMap": {},
     "title": ""
    }
   },
   "outputs": [],
   "source": [
    "%sql\n",
    "CREATE TABLE IF NOT EXISTS team_salaries_2024 AS\n",
    "SELECT \n",
    "    team,\n",
    "    SUM(base_salary) AS total_base_salary,\n",
    "    SUM(Guaranteed_Compensation) AS total_guaranteed_salary\n",
    "FROM \n",
    "    salary_data\n",
    "WHERE \n",
    "    season = 2024\n",
    "GROUP BY \n",
    "    team;\n",
    "\n",
    "SELECT * FROM team_salaries_2024 LIMIT 10;"
   ]
  },
  {
   "cell_type": "code",
   "execution_count": 0,
   "metadata": {
    "application/vnd.databricks.v1+cell": {
     "cellMetadata": {
      "byteLimit": 2048000,
      "implicitDf": true,
      "rowLimit": 10000
     },
     "inputWidgets": {},
     "nuid": "62048c0f-d3ef-485d-bcbd-7a289c409d8d",
     "showTitle": false,
     "tableResultSettingsMap": {},
     "title": ""
    }
   },
   "outputs": [],
   "source": [
    "%sql\n",
    "CREATE TABLE match_data_summary AS\n",
    "SELECT \n",
    "    Date AS match_date,\n",
    "    Home AS home_team,\n",
    "    Away AS away_team,\n",
    "    HxGt AS home_team_expected_goals,\n",
    "    AxGt AS away_team_expected_goals,\n",
    "    hg AS home_team_goals,\n",
    "    ag AS away_team_goals\n",
    "FROM \n",
    "    match_data;\n",
    "\n",
    "SELECT * FROM match_data_summary LIMIT 10;"
   ]
  },
  {
   "cell_type": "code",
   "execution_count": 0,
   "metadata": {
    "application/vnd.databricks.v1+cell": {
     "cellMetadata": {
      "byteLimit": 2048000,
      "implicitDf": true,
      "rowLimit": 10000
     },
     "inputWidgets": {},
     "nuid": "28834fe0-bce1-4b84-9d58-1642b9390317",
     "showTitle": false,
     "tableResultSettingsMap": {},
     "title": ""
    }
   },
   "outputs": [],
   "source": [
    "%sql\n",
    "SELECT\n",
    "  player_id,\n",
    "  player,\n",
    "  team,\n",
    "  season,\n",
    "  goals_added\n",
    "FROM\n",
    "  player_goals_data\n",
    "ORDER BY\n",
    "  goals_added DESC\n",
    "LIMIT 10;"
   ]
  }
 ],
 "metadata": {
  "application/vnd.databricks.v1+notebook": {
   "computePreferences": null,
   "dashboards": [],
   "environmentMetadata": {
    "base_environment": "",
    "client": "1"
   },
   "language": "python",
   "notebookMetadata": {
    "mostRecentlyExecutedCommandWithImplicitDF": {
     "commandId": 8581406761749051,
     "dataframes": [
      "_sqldf"
     ]
    },
    "pythonIndentUnit": 4
   },
   "notebookName": "aud_pipeline_automation",
   "widgets": {}
  },
  "language_info": {
   "name": "python"
  }
 },
 "nbformat": 4,
 "nbformat_minor": 0
}
