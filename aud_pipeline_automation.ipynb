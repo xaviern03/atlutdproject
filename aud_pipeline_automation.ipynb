{
 "cells": [
  {
   "cell_type": "code",
   "execution_count": 0,
   "metadata": {
    "application/vnd.databricks.v1+cell": {
     "cellMetadata": {
      "byteLimit": 2048000,
      "rowLimit": 10000
     },
     "collapsed": true,
     "inputWidgets": {},
     "nuid": "db535980-7af0-4fdb-aba4-38fbdd2b0ead",
     "showTitle": true,
     "tableResultSettingsMap": {},
     "title": ""
    }
   },
   "outputs": [],
   "source": [
    "match_data_path = \"dbfs:/FileStore/tables/processed_match_data_2025_01_23-3.csv\"\n",
    "match_df = spark.read.format(\"csv\").option(\"header\", \"true\").option(\"inferSchema\", \"true\").load(match_data_path)\n",
    "\n",
    "salary_data_path = \"dbfs:/FileStore/tables/processed_salary_data_2025_01_23-3.csv\"\n",
    "salary_df = spark.read.format(\"csv\").option(\"header\", \"true\").option(\"inferSchema\", \"true\").load(salary_data_path)\n",
    "\n",
    "match_df.show()\n",
    "salary_df.show()"
   ]
  },
  {
   "cell_type": "code",
   "execution_count": 0,
   "metadata": {
    "application/vnd.databricks.v1+cell": {
     "cellMetadata": {
      "byteLimit": 2048000,
      "rowLimit": 10000
     },
     "collapsed": true,
     "inputWidgets": {},
     "nuid": "5c109aba-eaf3-4f20-bec7-094d3ff5a740",
     "showTitle": false,
     "tableResultSettingsMap": {},
     "title": ""
    }
   },
   "outputs": [],
   "source": [
    "\n",
    "match_delta_path = \"/delta/match_data\"\n",
    "salary_data_path = \"/delta/salary_data\"\n",
    "\n",
    "match_df.write.format(\"delta\").mode(\"overwrite\").save(match_delta_path)\n",
    "salary_df.write.format(\"delta\").mode(\"overwrite\").save(salary_data_path)\n",
    "\n",
    "spark.sql(f\"\"\"\n",
    "CREATE TABLE IF NOT EXISTS match_data\n",
    "USING DELTA\n",
    "LOCATION '{match_delta_path}'\n",
    "          \"\"\")\n",
    "\n",
    "spark.sql(f\"\"\"\n",
    "CREATE TABLE IF NOT EXISTS salary_data\n",
    "USING DELTA\n",
    "LOCATION '{salary_data_path}'\n",
    "           \"\"\")\n",
    "\n",
    "spark.sql(\"SELECT * FROM match_data LIMIT 10\").show()\n",
    "spark.sql(\"SELECT * FROM salary_data LIMIT 10\").show()"
   ]
  }
 ],
 "metadata": {
  "application/vnd.databricks.v1+notebook": {
   "computePreferences": null,
   "dashboards": [],
   "environmentMetadata": {
    "base_environment": "",
    "client": "1"
   },
   "language": "python",
   "notebookMetadata": {
    "pythonIndentUnit": 4
   },
   "notebookName": "aud_pipeline_automation",
   "widgets": {}
  },
  "language_info": {
   "name": "python"
  }
 },
 "nbformat": 4,
 "nbformat_minor": 0
}
